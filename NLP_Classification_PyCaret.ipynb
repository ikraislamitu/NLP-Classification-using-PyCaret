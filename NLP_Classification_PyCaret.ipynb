{
  "nbformat": 4,
  "nbformat_minor": 0,
  "metadata": {
    "colab": {
      "provenance": []
    },
    "kernelspec": {
      "name": "python3",
      "display_name": "Python 3"
    },
    "language_info": {
      "name": "python"
    },
    "widgets": {
      "application/vnd.jupyter.widget-state+json": {
        "be1248aee64d40a98c5789d1a2503a65": {
          "model_module": "@jupyter-widgets/controls",
          "model_name": "HBoxModel",
          "model_module_version": "1.5.0",
          "state": {
            "_dom_classes": [],
            "_model_module": "@jupyter-widgets/controls",
            "_model_module_version": "1.5.0",
            "_model_name": "HBoxModel",
            "_view_count": null,
            "_view_module": "@jupyter-widgets/controls",
            "_view_module_version": "1.5.0",
            "_view_name": "HBoxView",
            "box_style": "",
            "children": [
              "IPY_MODEL_9d289a0239b547b08f641c5384836b47",
              "IPY_MODEL_c6df627dcb944e9f89b9e297f8191ef6",
              "IPY_MODEL_b55b022a13d4428f974774f6f1eea476"
            ],
            "layout": "IPY_MODEL_b63e23eb969a4ef281e5f39b53973f89"
          }
        },
        "9d289a0239b547b08f641c5384836b47": {
          "model_module": "@jupyter-widgets/controls",
          "model_name": "HTMLModel",
          "model_module_version": "1.5.0",
          "state": {
            "_dom_classes": [],
            "_model_module": "@jupyter-widgets/controls",
            "_model_module_version": "1.5.0",
            "_model_name": "HTMLModel",
            "_view_count": null,
            "_view_module": "@jupyter-widgets/controls",
            "_view_module_version": "1.5.0",
            "_view_name": "HTMLView",
            "description": "",
            "description_tooltip": null,
            "layout": "IPY_MODEL_0b0ea1d248c642a4be293c906f4fc30c",
            "placeholder": "​",
            "style": "IPY_MODEL_62bbc6fbb00c49179a709f6317ba5992",
            "value": "Processing: 100%"
          }
        },
        "c6df627dcb944e9f89b9e297f8191ef6": {
          "model_module": "@jupyter-widgets/controls",
          "model_name": "FloatProgressModel",
          "model_module_version": "1.5.0",
          "state": {
            "_dom_classes": [],
            "_model_module": "@jupyter-widgets/controls",
            "_model_module_version": "1.5.0",
            "_model_name": "FloatProgressModel",
            "_view_count": null,
            "_view_module": "@jupyter-widgets/controls",
            "_view_module_version": "1.5.0",
            "_view_name": "ProgressView",
            "bar_style": "",
            "description": "",
            "description_tooltip": null,
            "layout": "IPY_MODEL_d0c6c11725ab42b388d48d0505498071",
            "max": 65,
            "min": 0,
            "orientation": "horizontal",
            "style": "IPY_MODEL_7be39ac9fb28495294b800af7104b105",
            "value": 65
          }
        },
        "b55b022a13d4428f974774f6f1eea476": {
          "model_module": "@jupyter-widgets/controls",
          "model_name": "HTMLModel",
          "model_module_version": "1.5.0",
          "state": {
            "_dom_classes": [],
            "_model_module": "@jupyter-widgets/controls",
            "_model_module_version": "1.5.0",
            "_model_name": "HTMLModel",
            "_view_count": null,
            "_view_module": "@jupyter-widgets/controls",
            "_view_module_version": "1.5.0",
            "_view_name": "HTMLView",
            "description": "",
            "description_tooltip": null,
            "layout": "IPY_MODEL_45d79592c14f4ca09a35b40b4014d56e",
            "placeholder": "​",
            "style": "IPY_MODEL_98c1faad03954c17a1bb35958c3a69da",
            "value": " 65/65 [00:29&lt;00:00,  3.23it/s]"
          }
        },
        "b63e23eb969a4ef281e5f39b53973f89": {
          "model_module": "@jupyter-widgets/base",
          "model_name": "LayoutModel",
          "model_module_version": "1.2.0",
          "state": {
            "_model_module": "@jupyter-widgets/base",
            "_model_module_version": "1.2.0",
            "_model_name": "LayoutModel",
            "_view_count": null,
            "_view_module": "@jupyter-widgets/base",
            "_view_module_version": "1.2.0",
            "_view_name": "LayoutView",
            "align_content": null,
            "align_items": null,
            "align_self": null,
            "border": null,
            "bottom": null,
            "display": null,
            "flex": null,
            "flex_flow": null,
            "grid_area": null,
            "grid_auto_columns": null,
            "grid_auto_flow": null,
            "grid_auto_rows": null,
            "grid_column": null,
            "grid_gap": null,
            "grid_row": null,
            "grid_template_areas": null,
            "grid_template_columns": null,
            "grid_template_rows": null,
            "height": null,
            "justify_content": null,
            "justify_items": null,
            "left": null,
            "margin": null,
            "max_height": null,
            "max_width": null,
            "min_height": null,
            "min_width": null,
            "object_fit": null,
            "object_position": null,
            "order": null,
            "overflow": null,
            "overflow_x": null,
            "overflow_y": null,
            "padding": null,
            "right": null,
            "top": null,
            "visibility": "hidden",
            "width": null
          }
        },
        "0b0ea1d248c642a4be293c906f4fc30c": {
          "model_module": "@jupyter-widgets/base",
          "model_name": "LayoutModel",
          "model_module_version": "1.2.0",
          "state": {
            "_model_module": "@jupyter-widgets/base",
            "_model_module_version": "1.2.0",
            "_model_name": "LayoutModel",
            "_view_count": null,
            "_view_module": "@jupyter-widgets/base",
            "_view_module_version": "1.2.0",
            "_view_name": "LayoutView",
            "align_content": null,
            "align_items": null,
            "align_self": null,
            "border": null,
            "bottom": null,
            "display": null,
            "flex": null,
            "flex_flow": null,
            "grid_area": null,
            "grid_auto_columns": null,
            "grid_auto_flow": null,
            "grid_auto_rows": null,
            "grid_column": null,
            "grid_gap": null,
            "grid_row": null,
            "grid_template_areas": null,
            "grid_template_columns": null,
            "grid_template_rows": null,
            "height": null,
            "justify_content": null,
            "justify_items": null,
            "left": null,
            "margin": null,
            "max_height": null,
            "max_width": null,
            "min_height": null,
            "min_width": null,
            "object_fit": null,
            "object_position": null,
            "order": null,
            "overflow": null,
            "overflow_x": null,
            "overflow_y": null,
            "padding": null,
            "right": null,
            "top": null,
            "visibility": null,
            "width": null
          }
        },
        "62bbc6fbb00c49179a709f6317ba5992": {
          "model_module": "@jupyter-widgets/controls",
          "model_name": "DescriptionStyleModel",
          "model_module_version": "1.5.0",
          "state": {
            "_model_module": "@jupyter-widgets/controls",
            "_model_module_version": "1.5.0",
            "_model_name": "DescriptionStyleModel",
            "_view_count": null,
            "_view_module": "@jupyter-widgets/base",
            "_view_module_version": "1.2.0",
            "_view_name": "StyleView",
            "description_width": ""
          }
        },
        "d0c6c11725ab42b388d48d0505498071": {
          "model_module": "@jupyter-widgets/base",
          "model_name": "LayoutModel",
          "model_module_version": "1.2.0",
          "state": {
            "_model_module": "@jupyter-widgets/base",
            "_model_module_version": "1.2.0",
            "_model_name": "LayoutModel",
            "_view_count": null,
            "_view_module": "@jupyter-widgets/base",
            "_view_module_version": "1.2.0",
            "_view_name": "LayoutView",
            "align_content": null,
            "align_items": null,
            "align_self": null,
            "border": null,
            "bottom": null,
            "display": null,
            "flex": null,
            "flex_flow": null,
            "grid_area": null,
            "grid_auto_columns": null,
            "grid_auto_flow": null,
            "grid_auto_rows": null,
            "grid_column": null,
            "grid_gap": null,
            "grid_row": null,
            "grid_template_areas": null,
            "grid_template_columns": null,
            "grid_template_rows": null,
            "height": null,
            "justify_content": null,
            "justify_items": null,
            "left": null,
            "margin": null,
            "max_height": null,
            "max_width": null,
            "min_height": null,
            "min_width": null,
            "object_fit": null,
            "object_position": null,
            "order": null,
            "overflow": null,
            "overflow_x": null,
            "overflow_y": null,
            "padding": null,
            "right": null,
            "top": null,
            "visibility": null,
            "width": null
          }
        },
        "7be39ac9fb28495294b800af7104b105": {
          "model_module": "@jupyter-widgets/controls",
          "model_name": "ProgressStyleModel",
          "model_module_version": "1.5.0",
          "state": {
            "_model_module": "@jupyter-widgets/controls",
            "_model_module_version": "1.5.0",
            "_model_name": "ProgressStyleModel",
            "_view_count": null,
            "_view_module": "@jupyter-widgets/base",
            "_view_module_version": "1.2.0",
            "_view_name": "StyleView",
            "bar_color": null,
            "description_width": ""
          }
        },
        "45d79592c14f4ca09a35b40b4014d56e": {
          "model_module": "@jupyter-widgets/base",
          "model_name": "LayoutModel",
          "model_module_version": "1.2.0",
          "state": {
            "_model_module": "@jupyter-widgets/base",
            "_model_module_version": "1.2.0",
            "_model_name": "LayoutModel",
            "_view_count": null,
            "_view_module": "@jupyter-widgets/base",
            "_view_module_version": "1.2.0",
            "_view_name": "LayoutView",
            "align_content": null,
            "align_items": null,
            "align_self": null,
            "border": null,
            "bottom": null,
            "display": null,
            "flex": null,
            "flex_flow": null,
            "grid_area": null,
            "grid_auto_columns": null,
            "grid_auto_flow": null,
            "grid_auto_rows": null,
            "grid_column": null,
            "grid_gap": null,
            "grid_row": null,
            "grid_template_areas": null,
            "grid_template_columns": null,
            "grid_template_rows": null,
            "height": null,
            "justify_content": null,
            "justify_items": null,
            "left": null,
            "margin": null,
            "max_height": null,
            "max_width": null,
            "min_height": null,
            "min_width": null,
            "object_fit": null,
            "object_position": null,
            "order": null,
            "overflow": null,
            "overflow_x": null,
            "overflow_y": null,
            "padding": null,
            "right": null,
            "top": null,
            "visibility": null,
            "width": null
          }
        },
        "98c1faad03954c17a1bb35958c3a69da": {
          "model_module": "@jupyter-widgets/controls",
          "model_name": "DescriptionStyleModel",
          "model_module_version": "1.5.0",
          "state": {
            "_model_module": "@jupyter-widgets/controls",
            "_model_module_version": "1.5.0",
            "_model_name": "DescriptionStyleModel",
            "_view_count": null,
            "_view_module": "@jupyter-widgets/base",
            "_view_module_version": "1.2.0",
            "_view_name": "StyleView",
            "description_width": ""
          }
        }
      }
    }
  },
  "cells": [
    {
      "cell_type": "code",
      "source": [
        "import pandas as pd\n",
        "import numpy as np"
      ],
      "metadata": {
        "id": "uStfgfgX6Dj2"
      },
      "execution_count": null,
      "outputs": []
    },
    {
      "cell_type": "code",
      "source": [
        "df = pd.read_csv('/content/SMSSpamCollection.csv', delimiter='\\t')\n"
      ],
      "metadata": {
        "id": "8JdQnIPr6XD8"
      },
      "execution_count": null,
      "outputs": []
    },
    {
      "cell_type": "code",
      "source": [
        "import pandas as pd\n",
        "import numpy as np\n",
        "with open('/content/SMSSpamCollection.csv', \"r\") as file:\n",
        "    lines = file.readlines()"
      ],
      "metadata": {
        "id": "v6WAPFwN7S4k"
      },
      "execution_count": null,
      "outputs": []
    },
    {
      "cell_type": "code",
      "source": [
        "\n",
        "labels = []\n",
        "messages = []\n",
        "\n",
        "for line in lines:\n",
        "    parts = line.split('\\t', 1)\n",
        "\n",
        "    label = parts[0]\n",
        "    message = parts[1]\n",
        "\n",
        "\n",
        "    labels.append(label)\n",
        "    messages.append(message)\n",
        "\n",
        "df = pd.DataFrame({'SMS': labels, 'Message': messages})\n",
        "\n",
        "print(df)"
      ],
      "metadata": {
        "colab": {
          "base_uri": "https://localhost:8080/"
        },
        "id": "_kATyK8K7MNK",
        "outputId": "8a54bb1b-7e6d-4f5c-cb8b-2eb2eb01e07b"
      },
      "execution_count": null,
      "outputs": [
        {
          "output_type": "stream",
          "name": "stdout",
          "text": [
            "       SMS                                            Message\n",
            "0      ham  Go until jurong point, crazy.. Available only ...\n",
            "1      ham                    Ok lar... Joking wif u oni...\\n\n",
            "2     spam  Free entry in 2 a wkly comp to win FA Cup fina...\n",
            "3      ham  U dun say so early hor... U c already then say...\n",
            "4      ham  Nah I don't think he goes to usf, he lives aro...\n",
            "...    ...                                                ...\n",
            "5569  spam  This is the 2nd time we have tried 2 contact u...\n",
            "5570   ham             Will ü b going to esplanade fr home?\\n\n",
            "5571   ham  Pity, * was in mood for that. So...any other s...\n",
            "5572   ham  The guy did some bitching but I acted like i'd...\n",
            "5573   ham                       Rofl. Its true to its name\\n\n",
            "\n",
            "[5574 rows x 2 columns]\n"
          ]
        }
      ]
    },
    {
      "cell_type": "code",
      "source": [
        "df.head()"
      ],
      "metadata": {
        "colab": {
          "base_uri": "https://localhost:8080/",
          "height": 206
        },
        "id": "x6uwfHwZ5_Dh",
        "outputId": "826cb1e9-e53c-4ebf-e380-0256cbbc4497"
      },
      "execution_count": null,
      "outputs": [
        {
          "output_type": "execute_result",
          "data": {
            "text/plain": [
              "    ham  \\\n",
              "0   ham   \n",
              "1  spam   \n",
              "2   ham   \n",
              "3   ham   \n",
              "4  spam   \n",
              "\n",
              "  Go until jurong point, crazy.. Available only in bugis n great world la e buffet... Cine there got amore wat...  \n",
              "0                      Ok lar... Joking wif u oni...                                                               \n",
              "1  Free entry in 2 a wkly comp to win FA Cup fina...                                                               \n",
              "2  U dun say so early hor... U c already then say...                                                               \n",
              "3  Nah I don't think he goes to usf, he lives aro...                                                               \n",
              "4  FreeMsg Hey there darling it's been 3 week's n...                                                               "
            ],
            "text/html": [
              "\n",
              "  <div id=\"df-994776c4-2b95-4fb3-8b2b-5f8cace48f0f\" class=\"colab-df-container\">\n",
              "    <div>\n",
              "<style scoped>\n",
              "    .dataframe tbody tr th:only-of-type {\n",
              "        vertical-align: middle;\n",
              "    }\n",
              "\n",
              "    .dataframe tbody tr th {\n",
              "        vertical-align: top;\n",
              "    }\n",
              "\n",
              "    .dataframe thead th {\n",
              "        text-align: right;\n",
              "    }\n",
              "</style>\n",
              "<table border=\"1\" class=\"dataframe\">\n",
              "  <thead>\n",
              "    <tr style=\"text-align: right;\">\n",
              "      <th></th>\n",
              "      <th>ham</th>\n",
              "      <th>Go until jurong point, crazy.. Available only in bugis n great world la e buffet... Cine there got amore wat...</th>\n",
              "    </tr>\n",
              "  </thead>\n",
              "  <tbody>\n",
              "    <tr>\n",
              "      <th>0</th>\n",
              "      <td>ham</td>\n",
              "      <td>Ok lar... Joking wif u oni...</td>\n",
              "    </tr>\n",
              "    <tr>\n",
              "      <th>1</th>\n",
              "      <td>spam</td>\n",
              "      <td>Free entry in 2 a wkly comp to win FA Cup fina...</td>\n",
              "    </tr>\n",
              "    <tr>\n",
              "      <th>2</th>\n",
              "      <td>ham</td>\n",
              "      <td>U dun say so early hor... U c already then say...</td>\n",
              "    </tr>\n",
              "    <tr>\n",
              "      <th>3</th>\n",
              "      <td>ham</td>\n",
              "      <td>Nah I don't think he goes to usf, he lives aro...</td>\n",
              "    </tr>\n",
              "    <tr>\n",
              "      <th>4</th>\n",
              "      <td>spam</td>\n",
              "      <td>FreeMsg Hey there darling it's been 3 week's n...</td>\n",
              "    </tr>\n",
              "  </tbody>\n",
              "</table>\n",
              "</div>\n",
              "    <div class=\"colab-df-buttons\">\n",
              "\n",
              "  <div class=\"colab-df-container\">\n",
              "    <button class=\"colab-df-convert\" onclick=\"convertToInteractive('df-994776c4-2b95-4fb3-8b2b-5f8cace48f0f')\"\n",
              "            title=\"Convert this dataframe to an interactive table.\"\n",
              "            style=\"display:none;\">\n",
              "\n",
              "  <svg xmlns=\"http://www.w3.org/2000/svg\" height=\"24px\" viewBox=\"0 -960 960 960\">\n",
              "    <path d=\"M120-120v-720h720v720H120Zm60-500h600v-160H180v160Zm220 220h160v-160H400v160Zm0 220h160v-160H400v160ZM180-400h160v-160H180v160Zm440 0h160v-160H620v160ZM180-180h160v-160H180v160Zm440 0h160v-160H620v160Z\"/>\n",
              "  </svg>\n",
              "    </button>\n",
              "\n",
              "  <style>\n",
              "    .colab-df-container {\n",
              "      display:flex;\n",
              "      gap: 12px;\n",
              "    }\n",
              "\n",
              "    .colab-df-convert {\n",
              "      background-color: #E8F0FE;\n",
              "      border: none;\n",
              "      border-radius: 50%;\n",
              "      cursor: pointer;\n",
              "      display: none;\n",
              "      fill: #1967D2;\n",
              "      height: 32px;\n",
              "      padding: 0 0 0 0;\n",
              "      width: 32px;\n",
              "    }\n",
              "\n",
              "    .colab-df-convert:hover {\n",
              "      background-color: #E2EBFA;\n",
              "      box-shadow: 0px 1px 2px rgba(60, 64, 67, 0.3), 0px 1px 3px 1px rgba(60, 64, 67, 0.15);\n",
              "      fill: #174EA6;\n",
              "    }\n",
              "\n",
              "    .colab-df-buttons div {\n",
              "      margin-bottom: 4px;\n",
              "    }\n",
              "\n",
              "    [theme=dark] .colab-df-convert {\n",
              "      background-color: #3B4455;\n",
              "      fill: #D2E3FC;\n",
              "    }\n",
              "\n",
              "    [theme=dark] .colab-df-convert:hover {\n",
              "      background-color: #434B5C;\n",
              "      box-shadow: 0px 1px 3px 1px rgba(0, 0, 0, 0.15);\n",
              "      filter: drop-shadow(0px 1px 2px rgba(0, 0, 0, 0.3));\n",
              "      fill: #FFFFFF;\n",
              "    }\n",
              "  </style>\n",
              "\n",
              "    <script>\n",
              "      const buttonEl =\n",
              "        document.querySelector('#df-994776c4-2b95-4fb3-8b2b-5f8cace48f0f button.colab-df-convert');\n",
              "      buttonEl.style.display =\n",
              "        google.colab.kernel.accessAllowed ? 'block' : 'none';\n",
              "\n",
              "      async function convertToInteractive(key) {\n",
              "        const element = document.querySelector('#df-994776c4-2b95-4fb3-8b2b-5f8cace48f0f');\n",
              "        const dataTable =\n",
              "          await google.colab.kernel.invokeFunction('convertToInteractive',\n",
              "                                                    [key], {});\n",
              "        if (!dataTable) return;\n",
              "\n",
              "        const docLinkHtml = 'Like what you see? Visit the ' +\n",
              "          '<a target=\"_blank\" href=https://colab.research.google.com/notebooks/data_table.ipynb>data table notebook</a>'\n",
              "          + ' to learn more about interactive tables.';\n",
              "        element.innerHTML = '';\n",
              "        dataTable['output_type'] = 'display_data';\n",
              "        await google.colab.output.renderOutput(dataTable, element);\n",
              "        const docLink = document.createElement('div');\n",
              "        docLink.innerHTML = docLinkHtml;\n",
              "        element.appendChild(docLink);\n",
              "      }\n",
              "    </script>\n",
              "  </div>\n",
              "\n",
              "\n",
              "<div id=\"df-b3a86adb-b445-421a-9c7b-2e8435c37c33\">\n",
              "  <button class=\"colab-df-quickchart\" onclick=\"quickchart('df-b3a86adb-b445-421a-9c7b-2e8435c37c33')\"\n",
              "            title=\"Suggest charts\"\n",
              "            style=\"display:none;\">\n",
              "\n",
              "<svg xmlns=\"http://www.w3.org/2000/svg\" height=\"24px\"viewBox=\"0 0 24 24\"\n",
              "     width=\"24px\">\n",
              "    <g>\n",
              "        <path d=\"M19 3H5c-1.1 0-2 .9-2 2v14c0 1.1.9 2 2 2h14c1.1 0 2-.9 2-2V5c0-1.1-.9-2-2-2zM9 17H7v-7h2v7zm4 0h-2V7h2v10zm4 0h-2v-4h2v4z\"/>\n",
              "    </g>\n",
              "</svg>\n",
              "  </button>\n",
              "\n",
              "<style>\n",
              "  .colab-df-quickchart {\n",
              "      --bg-color: #E8F0FE;\n",
              "      --fill-color: #1967D2;\n",
              "      --hover-bg-color: #E2EBFA;\n",
              "      --hover-fill-color: #174EA6;\n",
              "      --disabled-fill-color: #AAA;\n",
              "      --disabled-bg-color: #DDD;\n",
              "  }\n",
              "\n",
              "  [theme=dark] .colab-df-quickchart {\n",
              "      --bg-color: #3B4455;\n",
              "      --fill-color: #D2E3FC;\n",
              "      --hover-bg-color: #434B5C;\n",
              "      --hover-fill-color: #FFFFFF;\n",
              "      --disabled-bg-color: #3B4455;\n",
              "      --disabled-fill-color: #666;\n",
              "  }\n",
              "\n",
              "  .colab-df-quickchart {\n",
              "    background-color: var(--bg-color);\n",
              "    border: none;\n",
              "    border-radius: 50%;\n",
              "    cursor: pointer;\n",
              "    display: none;\n",
              "    fill: var(--fill-color);\n",
              "    height: 32px;\n",
              "    padding: 0;\n",
              "    width: 32px;\n",
              "  }\n",
              "\n",
              "  .colab-df-quickchart:hover {\n",
              "    background-color: var(--hover-bg-color);\n",
              "    box-shadow: 0 1px 2px rgba(60, 64, 67, 0.3), 0 1px 3px 1px rgba(60, 64, 67, 0.15);\n",
              "    fill: var(--button-hover-fill-color);\n",
              "  }\n",
              "\n",
              "  .colab-df-quickchart-complete:disabled,\n",
              "  .colab-df-quickchart-complete:disabled:hover {\n",
              "    background-color: var(--disabled-bg-color);\n",
              "    fill: var(--disabled-fill-color);\n",
              "    box-shadow: none;\n",
              "  }\n",
              "\n",
              "  .colab-df-spinner {\n",
              "    border: 2px solid var(--fill-color);\n",
              "    border-color: transparent;\n",
              "    border-bottom-color: var(--fill-color);\n",
              "    animation:\n",
              "      spin 1s steps(1) infinite;\n",
              "  }\n",
              "\n",
              "  @keyframes spin {\n",
              "    0% {\n",
              "      border-color: transparent;\n",
              "      border-bottom-color: var(--fill-color);\n",
              "      border-left-color: var(--fill-color);\n",
              "    }\n",
              "    20% {\n",
              "      border-color: transparent;\n",
              "      border-left-color: var(--fill-color);\n",
              "      border-top-color: var(--fill-color);\n",
              "    }\n",
              "    30% {\n",
              "      border-color: transparent;\n",
              "      border-left-color: var(--fill-color);\n",
              "      border-top-color: var(--fill-color);\n",
              "      border-right-color: var(--fill-color);\n",
              "    }\n",
              "    40% {\n",
              "      border-color: transparent;\n",
              "      border-right-color: var(--fill-color);\n",
              "      border-top-color: var(--fill-color);\n",
              "    }\n",
              "    60% {\n",
              "      border-color: transparent;\n",
              "      border-right-color: var(--fill-color);\n",
              "    }\n",
              "    80% {\n",
              "      border-color: transparent;\n",
              "      border-right-color: var(--fill-color);\n",
              "      border-bottom-color: var(--fill-color);\n",
              "    }\n",
              "    90% {\n",
              "      border-color: transparent;\n",
              "      border-bottom-color: var(--fill-color);\n",
              "    }\n",
              "  }\n",
              "</style>\n",
              "\n",
              "  <script>\n",
              "    async function quickchart(key) {\n",
              "      const quickchartButtonEl =\n",
              "        document.querySelector('#' + key + ' button');\n",
              "      quickchartButtonEl.disabled = true;  // To prevent multiple clicks.\n",
              "      quickchartButtonEl.classList.add('colab-df-spinner');\n",
              "      try {\n",
              "        const charts = await google.colab.kernel.invokeFunction(\n",
              "            'suggestCharts', [key], {});\n",
              "      } catch (error) {\n",
              "        console.error('Error during call to suggestCharts:', error);\n",
              "      }\n",
              "      quickchartButtonEl.classList.remove('colab-df-spinner');\n",
              "      quickchartButtonEl.classList.add('colab-df-quickchart-complete');\n",
              "    }\n",
              "    (() => {\n",
              "      let quickchartButtonEl =\n",
              "        document.querySelector('#df-b3a86adb-b445-421a-9c7b-2e8435c37c33 button');\n",
              "      quickchartButtonEl.style.display =\n",
              "        google.colab.kernel.accessAllowed ? 'block' : 'none';\n",
              "    })();\n",
              "  </script>\n",
              "</div>\n",
              "\n",
              "    </div>\n",
              "  </div>\n"
            ],
            "application/vnd.google.colaboratory.intrinsic+json": {
              "type": "dataframe",
              "variable_name": "df",
              "summary": "{\n  \"name\": \"df\",\n  \"rows\": 5571,\n  \"fields\": [\n    {\n      \"column\": \"ham\",\n      \"properties\": {\n        \"dtype\": \"category\",\n        \"samples\": [\n          \"spam\",\n          \"ham\"\n        ],\n        \"num_unique_values\": 2,\n        \"semantic_type\": \"\",\n        \"description\": \"\"\n      }\n    },\n    {\n      \"column\": \"Go until jurong point, crazy.. Available only in bugis n great world la e buffet... Cine there got amore wat...\",\n      \"properties\": {\n        \"dtype\": \"string\",\n        \"samples\": [\n          \"Mm i had my food da from out\",\n          \"Ok lor... But buy wat?\"\n        ],\n        \"num_unique_values\": 5168,\n        \"semantic_type\": \"\",\n        \"description\": \"\"\n      }\n    }\n  ]\n}"
            }
          },
          "metadata": {},
          "execution_count": 7
        }
      ]
    },
    {
      "cell_type": "code",
      "source": [
        "df = pd.get_dummies(df, columns=['SMS'], drop_first=True)"
      ],
      "metadata": {
        "id": "Y3tilI_AAkXM"
      },
      "execution_count": null,
      "outputs": []
    },
    {
      "cell_type": "code",
      "source": [
        "df.head()"
      ],
      "metadata": {
        "colab": {
          "base_uri": "https://localhost:8080/",
          "height": 206
        },
        "id": "t2rCTiyaArys",
        "outputId": "0d15cf31-8afc-48d6-d61a-08e8ff5cb711"
      },
      "execution_count": null,
      "outputs": [
        {
          "output_type": "execute_result",
          "data": {
            "text/plain": [
              "                                             Message  SMS_spam\n",
              "0  Go until jurong point, crazy.. Available only ...         0\n",
              "1                    Ok lar... Joking wif u oni...\\n         0\n",
              "2  Free entry in 2 a wkly comp to win FA Cup fina...         1\n",
              "3  U dun say so early hor... U c already then say...         0\n",
              "4  Nah I don't think he goes to usf, he lives aro...         0"
            ],
            "text/html": [
              "\n",
              "  <div id=\"df-466a6cdb-3c6a-402b-a4bc-afab1a334089\" class=\"colab-df-container\">\n",
              "    <div>\n",
              "<style scoped>\n",
              "    .dataframe tbody tr th:only-of-type {\n",
              "        vertical-align: middle;\n",
              "    }\n",
              "\n",
              "    .dataframe tbody tr th {\n",
              "        vertical-align: top;\n",
              "    }\n",
              "\n",
              "    .dataframe thead th {\n",
              "        text-align: right;\n",
              "    }\n",
              "</style>\n",
              "<table border=\"1\" class=\"dataframe\">\n",
              "  <thead>\n",
              "    <tr style=\"text-align: right;\">\n",
              "      <th></th>\n",
              "      <th>Message</th>\n",
              "      <th>SMS_spam</th>\n",
              "    </tr>\n",
              "  </thead>\n",
              "  <tbody>\n",
              "    <tr>\n",
              "      <th>0</th>\n",
              "      <td>Go until jurong point, crazy.. Available only ...</td>\n",
              "      <td>0</td>\n",
              "    </tr>\n",
              "    <tr>\n",
              "      <th>1</th>\n",
              "      <td>Ok lar... Joking wif u oni...\\n</td>\n",
              "      <td>0</td>\n",
              "    </tr>\n",
              "    <tr>\n",
              "      <th>2</th>\n",
              "      <td>Free entry in 2 a wkly comp to win FA Cup fina...</td>\n",
              "      <td>1</td>\n",
              "    </tr>\n",
              "    <tr>\n",
              "      <th>3</th>\n",
              "      <td>U dun say so early hor... U c already then say...</td>\n",
              "      <td>0</td>\n",
              "    </tr>\n",
              "    <tr>\n",
              "      <th>4</th>\n",
              "      <td>Nah I don't think he goes to usf, he lives aro...</td>\n",
              "      <td>0</td>\n",
              "    </tr>\n",
              "  </tbody>\n",
              "</table>\n",
              "</div>\n",
              "    <div class=\"colab-df-buttons\">\n",
              "\n",
              "  <div class=\"colab-df-container\">\n",
              "    <button class=\"colab-df-convert\" onclick=\"convertToInteractive('df-466a6cdb-3c6a-402b-a4bc-afab1a334089')\"\n",
              "            title=\"Convert this dataframe to an interactive table.\"\n",
              "            style=\"display:none;\">\n",
              "\n",
              "  <svg xmlns=\"http://www.w3.org/2000/svg\" height=\"24px\" viewBox=\"0 -960 960 960\">\n",
              "    <path d=\"M120-120v-720h720v720H120Zm60-500h600v-160H180v160Zm220 220h160v-160H400v160Zm0 220h160v-160H400v160ZM180-400h160v-160H180v160Zm440 0h160v-160H620v160ZM180-180h160v-160H180v160Zm440 0h160v-160H620v160Z\"/>\n",
              "  </svg>\n",
              "    </button>\n",
              "\n",
              "  <style>\n",
              "    .colab-df-container {\n",
              "      display:flex;\n",
              "      gap: 12px;\n",
              "    }\n",
              "\n",
              "    .colab-df-convert {\n",
              "      background-color: #E8F0FE;\n",
              "      border: none;\n",
              "      border-radius: 50%;\n",
              "      cursor: pointer;\n",
              "      display: none;\n",
              "      fill: #1967D2;\n",
              "      height: 32px;\n",
              "      padding: 0 0 0 0;\n",
              "      width: 32px;\n",
              "    }\n",
              "\n",
              "    .colab-df-convert:hover {\n",
              "      background-color: #E2EBFA;\n",
              "      box-shadow: 0px 1px 2px rgba(60, 64, 67, 0.3), 0px 1px 3px 1px rgba(60, 64, 67, 0.15);\n",
              "      fill: #174EA6;\n",
              "    }\n",
              "\n",
              "    .colab-df-buttons div {\n",
              "      margin-bottom: 4px;\n",
              "    }\n",
              "\n",
              "    [theme=dark] .colab-df-convert {\n",
              "      background-color: #3B4455;\n",
              "      fill: #D2E3FC;\n",
              "    }\n",
              "\n",
              "    [theme=dark] .colab-df-convert:hover {\n",
              "      background-color: #434B5C;\n",
              "      box-shadow: 0px 1px 3px 1px rgba(0, 0, 0, 0.15);\n",
              "      filter: drop-shadow(0px 1px 2px rgba(0, 0, 0, 0.3));\n",
              "      fill: #FFFFFF;\n",
              "    }\n",
              "  </style>\n",
              "\n",
              "    <script>\n",
              "      const buttonEl =\n",
              "        document.querySelector('#df-466a6cdb-3c6a-402b-a4bc-afab1a334089 button.colab-df-convert');\n",
              "      buttonEl.style.display =\n",
              "        google.colab.kernel.accessAllowed ? 'block' : 'none';\n",
              "\n",
              "      async function convertToInteractive(key) {\n",
              "        const element = document.querySelector('#df-466a6cdb-3c6a-402b-a4bc-afab1a334089');\n",
              "        const dataTable =\n",
              "          await google.colab.kernel.invokeFunction('convertToInteractive',\n",
              "                                                    [key], {});\n",
              "        if (!dataTable) return;\n",
              "\n",
              "        const docLinkHtml = 'Like what you see? Visit the ' +\n",
              "          '<a target=\"_blank\" href=https://colab.research.google.com/notebooks/data_table.ipynb>data table notebook</a>'\n",
              "          + ' to learn more about interactive tables.';\n",
              "        element.innerHTML = '';\n",
              "        dataTable['output_type'] = 'display_data';\n",
              "        await google.colab.output.renderOutput(dataTable, element);\n",
              "        const docLink = document.createElement('div');\n",
              "        docLink.innerHTML = docLinkHtml;\n",
              "        element.appendChild(docLink);\n",
              "      }\n",
              "    </script>\n",
              "  </div>\n",
              "\n",
              "\n",
              "<div id=\"df-143af7ab-55b5-4f00-99b9-9c7fa30cbe6d\">\n",
              "  <button class=\"colab-df-quickchart\" onclick=\"quickchart('df-143af7ab-55b5-4f00-99b9-9c7fa30cbe6d')\"\n",
              "            title=\"Suggest charts\"\n",
              "            style=\"display:none;\">\n",
              "\n",
              "<svg xmlns=\"http://www.w3.org/2000/svg\" height=\"24px\"viewBox=\"0 0 24 24\"\n",
              "     width=\"24px\">\n",
              "    <g>\n",
              "        <path d=\"M19 3H5c-1.1 0-2 .9-2 2v14c0 1.1.9 2 2 2h14c1.1 0 2-.9 2-2V5c0-1.1-.9-2-2-2zM9 17H7v-7h2v7zm4 0h-2V7h2v10zm4 0h-2v-4h2v4z\"/>\n",
              "    </g>\n",
              "</svg>\n",
              "  </button>\n",
              "\n",
              "<style>\n",
              "  .colab-df-quickchart {\n",
              "      --bg-color: #E8F0FE;\n",
              "      --fill-color: #1967D2;\n",
              "      --hover-bg-color: #E2EBFA;\n",
              "      --hover-fill-color: #174EA6;\n",
              "      --disabled-fill-color: #AAA;\n",
              "      --disabled-bg-color: #DDD;\n",
              "  }\n",
              "\n",
              "  [theme=dark] .colab-df-quickchart {\n",
              "      --bg-color: #3B4455;\n",
              "      --fill-color: #D2E3FC;\n",
              "      --hover-bg-color: #434B5C;\n",
              "      --hover-fill-color: #FFFFFF;\n",
              "      --disabled-bg-color: #3B4455;\n",
              "      --disabled-fill-color: #666;\n",
              "  }\n",
              "\n",
              "  .colab-df-quickchart {\n",
              "    background-color: var(--bg-color);\n",
              "    border: none;\n",
              "    border-radius: 50%;\n",
              "    cursor: pointer;\n",
              "    display: none;\n",
              "    fill: var(--fill-color);\n",
              "    height: 32px;\n",
              "    padding: 0;\n",
              "    width: 32px;\n",
              "  }\n",
              "\n",
              "  .colab-df-quickchart:hover {\n",
              "    background-color: var(--hover-bg-color);\n",
              "    box-shadow: 0 1px 2px rgba(60, 64, 67, 0.3), 0 1px 3px 1px rgba(60, 64, 67, 0.15);\n",
              "    fill: var(--button-hover-fill-color);\n",
              "  }\n",
              "\n",
              "  .colab-df-quickchart-complete:disabled,\n",
              "  .colab-df-quickchart-complete:disabled:hover {\n",
              "    background-color: var(--disabled-bg-color);\n",
              "    fill: var(--disabled-fill-color);\n",
              "    box-shadow: none;\n",
              "  }\n",
              "\n",
              "  .colab-df-spinner {\n",
              "    border: 2px solid var(--fill-color);\n",
              "    border-color: transparent;\n",
              "    border-bottom-color: var(--fill-color);\n",
              "    animation:\n",
              "      spin 1s steps(1) infinite;\n",
              "  }\n",
              "\n",
              "  @keyframes spin {\n",
              "    0% {\n",
              "      border-color: transparent;\n",
              "      border-bottom-color: var(--fill-color);\n",
              "      border-left-color: var(--fill-color);\n",
              "    }\n",
              "    20% {\n",
              "      border-color: transparent;\n",
              "      border-left-color: var(--fill-color);\n",
              "      border-top-color: var(--fill-color);\n",
              "    }\n",
              "    30% {\n",
              "      border-color: transparent;\n",
              "      border-left-color: var(--fill-color);\n",
              "      border-top-color: var(--fill-color);\n",
              "      border-right-color: var(--fill-color);\n",
              "    }\n",
              "    40% {\n",
              "      border-color: transparent;\n",
              "      border-right-color: var(--fill-color);\n",
              "      border-top-color: var(--fill-color);\n",
              "    }\n",
              "    60% {\n",
              "      border-color: transparent;\n",
              "      border-right-color: var(--fill-color);\n",
              "    }\n",
              "    80% {\n",
              "      border-color: transparent;\n",
              "      border-right-color: var(--fill-color);\n",
              "      border-bottom-color: var(--fill-color);\n",
              "    }\n",
              "    90% {\n",
              "      border-color: transparent;\n",
              "      border-bottom-color: var(--fill-color);\n",
              "    }\n",
              "  }\n",
              "</style>\n",
              "\n",
              "  <script>\n",
              "    async function quickchart(key) {\n",
              "      const quickchartButtonEl =\n",
              "        document.querySelector('#' + key + ' button');\n",
              "      quickchartButtonEl.disabled = true;  // To prevent multiple clicks.\n",
              "      quickchartButtonEl.classList.add('colab-df-spinner');\n",
              "      try {\n",
              "        const charts = await google.colab.kernel.invokeFunction(\n",
              "            'suggestCharts', [key], {});\n",
              "      } catch (error) {\n",
              "        console.error('Error during call to suggestCharts:', error);\n",
              "      }\n",
              "      quickchartButtonEl.classList.remove('colab-df-spinner');\n",
              "      quickchartButtonEl.classList.add('colab-df-quickchart-complete');\n",
              "    }\n",
              "    (() => {\n",
              "      let quickchartButtonEl =\n",
              "        document.querySelector('#df-143af7ab-55b5-4f00-99b9-9c7fa30cbe6d button');\n",
              "      quickchartButtonEl.style.display =\n",
              "        google.colab.kernel.accessAllowed ? 'block' : 'none';\n",
              "    })();\n",
              "  </script>\n",
              "</div>\n",
              "\n",
              "    </div>\n",
              "  </div>\n"
            ],
            "application/vnd.google.colaboratory.intrinsic+json": {
              "type": "dataframe",
              "variable_name": "df",
              "summary": "{\n  \"name\": \"df\",\n  \"rows\": 5574,\n  \"fields\": [\n    {\n      \"column\": \"Message\",\n      \"properties\": {\n        \"dtype\": \"string\",\n        \"samples\": [\n          \"K, makes sense, btw carlos is being difficult so you guys are gonna smoke while I go pick up the second batch and get gas\\n\",\n          \"URGENT! Your mobile No *********** WON a \\u00a32,000 Bonus Caller Prize on 02/06/03! This is the 2nd attempt to reach YOU! Call 09066362220 ASAP! BOX97N7QP, 150ppm\\n\",\n          \"If you still havent collected the dough pls let me know so i can go to the place i sent it to get the control number\\n\"\n        ],\n        \"num_unique_values\": 5171,\n        \"semantic_type\": \"\",\n        \"description\": \"\"\n      }\n    },\n    {\n      \"column\": \"SMS_spam\",\n      \"properties\": {\n        \"dtype\": \"uint8\",\n        \"samples\": [\n          1,\n          0\n        ],\n        \"num_unique_values\": 2,\n        \"semantic_type\": \"\",\n        \"description\": \"\"\n      }\n    }\n  ]\n}"
            }
          },
          "metadata": {},
          "execution_count": 30
        }
      ]
    },
    {
      "cell_type": "code",
      "source": [
        "df.columns"
      ],
      "metadata": {
        "colab": {
          "base_uri": "https://localhost:8080/"
        },
        "id": "76L6Xo296giR",
        "outputId": "71d77f68-ac43-4318-b818-10845767435c"
      },
      "execution_count": null,
      "outputs": [
        {
          "output_type": "execute_result",
          "data": {
            "text/plain": [
              "Index(['Message', 'SMS_spam'], dtype='object')"
            ]
          },
          "metadata": {},
          "execution_count": 39
        }
      ]
    },
    {
      "cell_type": "code",
      "source": [
        "df.rename(columns={'SMS ':'SMS'}, inplace=True)"
      ],
      "metadata": {
        "id": "dFkjORHs6mgK"
      },
      "execution_count": null,
      "outputs": []
    },
    {
      "cell_type": "code",
      "source": [
        "import nltk\n",
        "nltk.download('stopwords')\n"
      ],
      "metadata": {
        "colab": {
          "base_uri": "https://localhost:8080/"
        },
        "id": "tp0ma9u58EYC",
        "outputId": "f3aec204-f8c6-443d-e3fa-558b204e4488"
      },
      "execution_count": null,
      "outputs": [
        {
          "output_type": "stream",
          "name": "stderr",
          "text": [
            "[nltk_data] Downloading package stopwords to /root/nltk_data...\n",
            "[nltk_data]   Package stopwords is already up-to-date!\n"
          ]
        },
        {
          "output_type": "execute_result",
          "data": {
            "text/plain": [
              "True"
            ]
          },
          "metadata": {},
          "execution_count": 33
        }
      ]
    },
    {
      "cell_type": "code",
      "source": [
        "from nltk.corpus import stopwords\n",
        "\n",
        "stop_words = stopwords.words('english')\n"
      ],
      "metadata": {
        "id": "cSjT2tlq7qZv"
      },
      "execution_count": null,
      "outputs": []
    },
    {
      "cell_type": "code",
      "source": [
        "!pip install pycaret"
      ],
      "metadata": {
        "id": "ctcLej6n8pWS"
      },
      "execution_count": null,
      "outputs": []
    },
    {
      "cell_type": "code",
      "source": [
        "!pip install nltk spacy"
      ],
      "metadata": {
        "id": "KbTBP-pJ8y2a"
      },
      "execution_count": null,
      "outputs": []
    },
    {
      "cell_type": "code",
      "source": [
        "!pip install pycaret nltk"
      ],
      "metadata": {
        "id": "wg9QrFnz9a4C"
      },
      "execution_count": null,
      "outputs": []
    },
    {
      "cell_type": "code",
      "source": [
        "import pandas as pd\n",
        "\n",
        "# Load your dataset into df1\n",
        "df1 = pd.read_csv('/content/SMSSpamCollection.csv', delimiter='\\t')"
      ],
      "metadata": {
        "id": "g7chixUM_d_t"
      },
      "execution_count": null,
      "outputs": []
    },
    {
      "cell_type": "code",
      "source": [
        "from pycaret.classification import *"
      ],
      "metadata": {
        "id": "g5zGaSXf96Fz"
      },
      "execution_count": null,
      "outputs": []
    },
    {
      "cell_type": "code",
      "source": [
        "!pip install pycaret[nlp]"
      ],
      "metadata": {
        "id": "e6JLhyE_CbwC"
      },
      "execution_count": null,
      "outputs": []
    },
    {
      "cell_type": "code",
      "source": [
        "!pip show spacy"
      ],
      "metadata": {
        "colab": {
          "base_uri": "https://localhost:8080/"
        },
        "id": "LHtgE_vwDCIg",
        "outputId": "59d3d68a-acda-4671-b399-3886e62ea121"
      },
      "execution_count": null,
      "outputs": [
        {
          "output_type": "stream",
          "name": "stdout",
          "text": [
            "Name: spacy\n",
            "Version: 3.7.2\n",
            "Summary: Industrial-strength Natural Language Processing (NLP) in Python\n",
            "Home-page: https://spacy.io\n",
            "Author: Explosion\n",
            "Author-email: contact@explosion.ai\n",
            "License: MIT\n",
            "Location: /usr/local/lib/python3.10/dist-packages\n",
            "Requires: catalogue, cymem, jinja2, langcodes, murmurhash, numpy, packaging, preshed, pydantic, requests, setuptools, smart-open, spacy-legacy, spacy-loggers, srsly, thinc, tqdm, typer, wasabi, weasel\n",
            "Required-by: en-core-web-sm, fastai\n"
          ]
        }
      ]
    },
    {
      "cell_type": "code",
      "source": [
        "!python -m spacy download en_core_web_sm"
      ],
      "metadata": {
        "id": "f2NcXUh-DXJO"
      },
      "execution_count": null,
      "outputs": []
    },
    {
      "cell_type": "code",
      "source": [
        "import spacy"
      ],
      "metadata": {
        "id": "lYTs58xJDa5H"
      },
      "execution_count": null,
      "outputs": []
    },
    {
      "cell_type": "code",
      "source": [
        "nlp = spacy.load(\"en_core_web_sm\")"
      ],
      "metadata": {
        "id": "AzDDDGkUDoHH"
      },
      "execution_count": null,
      "outputs": []
    },
    {
      "cell_type": "code",
      "source": [
        "print(spacy.__version__)"
      ],
      "metadata": {
        "colab": {
          "base_uri": "https://localhost:8080/"
        },
        "id": "AZy0kJcvDrPy",
        "outputId": "e38f594f-5aaf-4e3d-8eae-370e59330783"
      },
      "execution_count": null,
      "outputs": [
        {
          "output_type": "stream",
          "name": "stdout",
          "text": [
            "3.7.2\n"
          ]
        }
      ]
    },
    {
      "cell_type": "code",
      "source": [
        "import inspect\n",
        "inspect.signature(setup)"
      ],
      "metadata": {
        "id": "275D1hdX-5V6"
      },
      "execution_count": null,
      "outputs": []
    },
    {
      "cell_type": "code",
      "source": [
        "print(df.columns)"
      ],
      "metadata": {
        "colab": {
          "base_uri": "https://localhost:8080/"
        },
        "id": "yufv882mEU_K",
        "outputId": "e41b036c-685b-4fde-ea99-0cf6b33dfd04"
      },
      "execution_count": null,
      "outputs": [
        {
          "output_type": "stream",
          "name": "stdout",
          "text": [
            "Index(['Message', 'SMS_spam'], dtype='object')\n"
          ]
        }
      ]
    },
    {
      "cell_type": "code",
      "source": [
        "%time su_1 = setup(data = df, target = 'SMS_spam', session_id=21)"
      ],
      "metadata": {
        "colab": {
          "base_uri": "https://localhost:8080/",
          "height": 743
        },
        "id": "fb3a2z-0ErfJ",
        "outputId": "f01c771b-19fd-431f-82a8-115e40310824"
      },
      "execution_count": null,
      "outputs": [
        {
          "output_type": "display_data",
          "data": {
            "text/plain": [
              "<pandas.io.formats.style.Styler at 0x7f54be0b2470>"
            ],
            "text/html": [
              "<style type=\"text/css\">\n",
              "#T_bbdd8_row8_col1 {\n",
              "  background-color: lightgreen;\n",
              "}\n",
              "</style>\n",
              "<table id=\"T_bbdd8\" class=\"dataframe\">\n",
              "  <thead>\n",
              "    <tr>\n",
              "      <th class=\"blank level0\" >&nbsp;</th>\n",
              "      <th id=\"T_bbdd8_level0_col0\" class=\"col_heading level0 col0\" >Description</th>\n",
              "      <th id=\"T_bbdd8_level0_col1\" class=\"col_heading level0 col1\" >Value</th>\n",
              "    </tr>\n",
              "  </thead>\n",
              "  <tbody>\n",
              "    <tr>\n",
              "      <th id=\"T_bbdd8_level0_row0\" class=\"row_heading level0 row0\" >0</th>\n",
              "      <td id=\"T_bbdd8_row0_col0\" class=\"data row0 col0\" >Session id</td>\n",
              "      <td id=\"T_bbdd8_row0_col1\" class=\"data row0 col1\" >21</td>\n",
              "    </tr>\n",
              "    <tr>\n",
              "      <th id=\"T_bbdd8_level0_row1\" class=\"row_heading level0 row1\" >1</th>\n",
              "      <td id=\"T_bbdd8_row1_col0\" class=\"data row1 col0\" >Target</td>\n",
              "      <td id=\"T_bbdd8_row1_col1\" class=\"data row1 col1\" >SMS_spam</td>\n",
              "    </tr>\n",
              "    <tr>\n",
              "      <th id=\"T_bbdd8_level0_row2\" class=\"row_heading level0 row2\" >2</th>\n",
              "      <td id=\"T_bbdd8_row2_col0\" class=\"data row2 col0\" >Target type</td>\n",
              "      <td id=\"T_bbdd8_row2_col1\" class=\"data row2 col1\" >Binary</td>\n",
              "    </tr>\n",
              "    <tr>\n",
              "      <th id=\"T_bbdd8_level0_row3\" class=\"row_heading level0 row3\" >3</th>\n",
              "      <td id=\"T_bbdd8_row3_col0\" class=\"data row3 col0\" >Original data shape</td>\n",
              "      <td id=\"T_bbdd8_row3_col1\" class=\"data row3 col1\" >(5574, 2)</td>\n",
              "    </tr>\n",
              "    <tr>\n",
              "      <th id=\"T_bbdd8_level0_row4\" class=\"row_heading level0 row4\" >4</th>\n",
              "      <td id=\"T_bbdd8_row4_col0\" class=\"data row4 col0\" >Transformed data shape</td>\n",
              "      <td id=\"T_bbdd8_row4_col1\" class=\"data row4 col1\" >(5574, 2)</td>\n",
              "    </tr>\n",
              "    <tr>\n",
              "      <th id=\"T_bbdd8_level0_row5\" class=\"row_heading level0 row5\" >5</th>\n",
              "      <td id=\"T_bbdd8_row5_col0\" class=\"data row5 col0\" >Transformed train set shape</td>\n",
              "      <td id=\"T_bbdd8_row5_col1\" class=\"data row5 col1\" >(3901, 2)</td>\n",
              "    </tr>\n",
              "    <tr>\n",
              "      <th id=\"T_bbdd8_level0_row6\" class=\"row_heading level0 row6\" >6</th>\n",
              "      <td id=\"T_bbdd8_row6_col0\" class=\"data row6 col0\" >Transformed test set shape</td>\n",
              "      <td id=\"T_bbdd8_row6_col1\" class=\"data row6 col1\" >(1673, 2)</td>\n",
              "    </tr>\n",
              "    <tr>\n",
              "      <th id=\"T_bbdd8_level0_row7\" class=\"row_heading level0 row7\" >7</th>\n",
              "      <td id=\"T_bbdd8_row7_col0\" class=\"data row7 col0\" >Categorical features</td>\n",
              "      <td id=\"T_bbdd8_row7_col1\" class=\"data row7 col1\" >1</td>\n",
              "    </tr>\n",
              "    <tr>\n",
              "      <th id=\"T_bbdd8_level0_row8\" class=\"row_heading level0 row8\" >8</th>\n",
              "      <td id=\"T_bbdd8_row8_col0\" class=\"data row8 col0\" >Preprocess</td>\n",
              "      <td id=\"T_bbdd8_row8_col1\" class=\"data row8 col1\" >True</td>\n",
              "    </tr>\n",
              "    <tr>\n",
              "      <th id=\"T_bbdd8_level0_row9\" class=\"row_heading level0 row9\" >9</th>\n",
              "      <td id=\"T_bbdd8_row9_col0\" class=\"data row9 col0\" >Imputation type</td>\n",
              "      <td id=\"T_bbdd8_row9_col1\" class=\"data row9 col1\" >simple</td>\n",
              "    </tr>\n",
              "    <tr>\n",
              "      <th id=\"T_bbdd8_level0_row10\" class=\"row_heading level0 row10\" >10</th>\n",
              "      <td id=\"T_bbdd8_row10_col0\" class=\"data row10 col0\" >Numeric imputation</td>\n",
              "      <td id=\"T_bbdd8_row10_col1\" class=\"data row10 col1\" >mean</td>\n",
              "    </tr>\n",
              "    <tr>\n",
              "      <th id=\"T_bbdd8_level0_row11\" class=\"row_heading level0 row11\" >11</th>\n",
              "      <td id=\"T_bbdd8_row11_col0\" class=\"data row11 col0\" >Categorical imputation</td>\n",
              "      <td id=\"T_bbdd8_row11_col1\" class=\"data row11 col1\" >mode</td>\n",
              "    </tr>\n",
              "    <tr>\n",
              "      <th id=\"T_bbdd8_level0_row12\" class=\"row_heading level0 row12\" >12</th>\n",
              "      <td id=\"T_bbdd8_row12_col0\" class=\"data row12 col0\" >Maximum one-hot encoding</td>\n",
              "      <td id=\"T_bbdd8_row12_col1\" class=\"data row12 col1\" >25</td>\n",
              "    </tr>\n",
              "    <tr>\n",
              "      <th id=\"T_bbdd8_level0_row13\" class=\"row_heading level0 row13\" >13</th>\n",
              "      <td id=\"T_bbdd8_row13_col0\" class=\"data row13 col0\" >Encoding method</td>\n",
              "      <td id=\"T_bbdd8_row13_col1\" class=\"data row13 col1\" >None</td>\n",
              "    </tr>\n",
              "    <tr>\n",
              "      <th id=\"T_bbdd8_level0_row14\" class=\"row_heading level0 row14\" >14</th>\n",
              "      <td id=\"T_bbdd8_row14_col0\" class=\"data row14 col0\" >Fold Generator</td>\n",
              "      <td id=\"T_bbdd8_row14_col1\" class=\"data row14 col1\" >StratifiedKFold</td>\n",
              "    </tr>\n",
              "    <tr>\n",
              "      <th id=\"T_bbdd8_level0_row15\" class=\"row_heading level0 row15\" >15</th>\n",
              "      <td id=\"T_bbdd8_row15_col0\" class=\"data row15 col0\" >Fold Number</td>\n",
              "      <td id=\"T_bbdd8_row15_col1\" class=\"data row15 col1\" >10</td>\n",
              "    </tr>\n",
              "    <tr>\n",
              "      <th id=\"T_bbdd8_level0_row16\" class=\"row_heading level0 row16\" >16</th>\n",
              "      <td id=\"T_bbdd8_row16_col0\" class=\"data row16 col0\" >CPU Jobs</td>\n",
              "      <td id=\"T_bbdd8_row16_col1\" class=\"data row16 col1\" >-1</td>\n",
              "    </tr>\n",
              "    <tr>\n",
              "      <th id=\"T_bbdd8_level0_row17\" class=\"row_heading level0 row17\" >17</th>\n",
              "      <td id=\"T_bbdd8_row17_col0\" class=\"data row17 col0\" >Use GPU</td>\n",
              "      <td id=\"T_bbdd8_row17_col1\" class=\"data row17 col1\" >False</td>\n",
              "    </tr>\n",
              "    <tr>\n",
              "      <th id=\"T_bbdd8_level0_row18\" class=\"row_heading level0 row18\" >18</th>\n",
              "      <td id=\"T_bbdd8_row18_col0\" class=\"data row18 col0\" >Log Experiment</td>\n",
              "      <td id=\"T_bbdd8_row18_col1\" class=\"data row18 col1\" >False</td>\n",
              "    </tr>\n",
              "    <tr>\n",
              "      <th id=\"T_bbdd8_level0_row19\" class=\"row_heading level0 row19\" >19</th>\n",
              "      <td id=\"T_bbdd8_row19_col0\" class=\"data row19 col0\" >Experiment Name</td>\n",
              "      <td id=\"T_bbdd8_row19_col1\" class=\"data row19 col1\" >clf-default-name</td>\n",
              "    </tr>\n",
              "    <tr>\n",
              "      <th id=\"T_bbdd8_level0_row20\" class=\"row_heading level0 row20\" >20</th>\n",
              "      <td id=\"T_bbdd8_row20_col0\" class=\"data row20 col0\" >USI</td>\n",
              "      <td id=\"T_bbdd8_row20_col1\" class=\"data row20 col1\" >8e65</td>\n",
              "    </tr>\n",
              "  </tbody>\n",
              "</table>\n"
            ]
          },
          "metadata": {}
        },
        {
          "output_type": "stream",
          "name": "stdout",
          "text": [
            "CPU times: user 1.59 s, sys: 0 ns, total: 1.59 s\n",
            "Wall time: 1.67 s\n"
          ]
        }
      ]
    },
    {
      "cell_type": "code",
      "source": [
        "%time compare_models()"
      ],
      "metadata": {
        "colab": {
          "base_uri": "https://localhost:8080/",
          "height": 682,
          "referenced_widgets": [
            "be1248aee64d40a98c5789d1a2503a65",
            "9d289a0239b547b08f641c5384836b47",
            "c6df627dcb944e9f89b9e297f8191ef6",
            "b55b022a13d4428f974774f6f1eea476",
            "b63e23eb969a4ef281e5f39b53973f89",
            "0b0ea1d248c642a4be293c906f4fc30c",
            "62bbc6fbb00c49179a709f6317ba5992",
            "d0c6c11725ab42b388d48d0505498071",
            "7be39ac9fb28495294b800af7104b105",
            "45d79592c14f4ca09a35b40b4014d56e",
            "98c1faad03954c17a1bb35958c3a69da"
          ]
        },
        "id": "2s3RdUGUGGJO",
        "outputId": "e76c4c41-5891-4512-8330-081a7ab1749e"
      },
      "execution_count": null,
      "outputs": [
        {
          "output_type": "display_data",
          "data": {
            "text/plain": [
              "<IPython.core.display.HTML object>"
            ],
            "text/html": []
          },
          "metadata": {}
        },
        {
          "output_type": "display_data",
          "data": {
            "text/plain": [
              "<pandas.io.formats.style.Styler at 0x7f54be0b1390>"
            ],
            "text/html": [
              "<style type=\"text/css\">\n",
              "#T_55ac1 th {\n",
              "  text-align: left;\n",
              "}\n",
              "#T_55ac1_row0_col0, #T_55ac1_row1_col0, #T_55ac1_row1_col2, #T_55ac1_row2_col0, #T_55ac1_row3_col0, #T_55ac1_row3_col2, #T_55ac1_row4_col0, #T_55ac1_row4_col2, #T_55ac1_row5_col0, #T_55ac1_row5_col2, #T_55ac1_row6_col0, #T_55ac1_row6_col2, #T_55ac1_row7_col0, #T_55ac1_row8_col0, #T_55ac1_row8_col2, #T_55ac1_row9_col0, #T_55ac1_row9_col2, #T_55ac1_row10_col0, #T_55ac1_row11_col0, #T_55ac1_row12_col0, #T_55ac1_row12_col2, #T_55ac1_row13_col0, #T_55ac1_row13_col2, #T_55ac1_row14_col0, #T_55ac1_row14_col1, #T_55ac1_row14_col2, #T_55ac1_row14_col3, #T_55ac1_row14_col4, #T_55ac1_row14_col5, #T_55ac1_row14_col6, #T_55ac1_row14_col7 {\n",
              "  text-align: left;\n",
              "}\n",
              "#T_55ac1_row0_col1, #T_55ac1_row0_col2, #T_55ac1_row0_col3, #T_55ac1_row0_col4, #T_55ac1_row0_col5, #T_55ac1_row0_col6, #T_55ac1_row0_col7, #T_55ac1_row1_col1, #T_55ac1_row1_col3, #T_55ac1_row1_col4, #T_55ac1_row1_col5, #T_55ac1_row1_col6, #T_55ac1_row1_col7, #T_55ac1_row2_col1, #T_55ac1_row2_col2, #T_55ac1_row2_col3, #T_55ac1_row2_col4, #T_55ac1_row2_col5, #T_55ac1_row2_col6, #T_55ac1_row2_col7, #T_55ac1_row3_col1, #T_55ac1_row3_col3, #T_55ac1_row3_col4, #T_55ac1_row3_col5, #T_55ac1_row3_col6, #T_55ac1_row3_col7, #T_55ac1_row4_col1, #T_55ac1_row4_col3, #T_55ac1_row4_col4, #T_55ac1_row4_col5, #T_55ac1_row4_col6, #T_55ac1_row4_col7, #T_55ac1_row5_col1, #T_55ac1_row5_col3, #T_55ac1_row5_col4, #T_55ac1_row5_col5, #T_55ac1_row5_col6, #T_55ac1_row5_col7, #T_55ac1_row6_col1, #T_55ac1_row6_col3, #T_55ac1_row6_col4, #T_55ac1_row6_col5, #T_55ac1_row6_col6, #T_55ac1_row6_col7, #T_55ac1_row7_col1, #T_55ac1_row7_col2, #T_55ac1_row7_col3, #T_55ac1_row7_col4, #T_55ac1_row7_col5, #T_55ac1_row7_col6, #T_55ac1_row7_col7, #T_55ac1_row8_col1, #T_55ac1_row8_col3, #T_55ac1_row8_col4, #T_55ac1_row8_col5, #T_55ac1_row8_col6, #T_55ac1_row8_col7, #T_55ac1_row9_col1, #T_55ac1_row9_col3, #T_55ac1_row9_col4, #T_55ac1_row9_col5, #T_55ac1_row9_col6, #T_55ac1_row9_col7, #T_55ac1_row10_col1, #T_55ac1_row10_col2, #T_55ac1_row10_col3, #T_55ac1_row10_col4, #T_55ac1_row10_col5, #T_55ac1_row10_col6, #T_55ac1_row10_col7, #T_55ac1_row11_col1, #T_55ac1_row11_col2, #T_55ac1_row11_col3, #T_55ac1_row11_col4, #T_55ac1_row11_col5, #T_55ac1_row11_col6, #T_55ac1_row11_col7, #T_55ac1_row12_col1, #T_55ac1_row12_col3, #T_55ac1_row12_col4, #T_55ac1_row12_col5, #T_55ac1_row12_col6, #T_55ac1_row12_col7, #T_55ac1_row13_col1, #T_55ac1_row13_col3, #T_55ac1_row13_col4, #T_55ac1_row13_col5, #T_55ac1_row13_col6, #T_55ac1_row13_col7 {\n",
              "  text-align: left;\n",
              "  background-color: yellow;\n",
              "}\n",
              "#T_55ac1_row0_col8, #T_55ac1_row1_col8, #T_55ac1_row2_col8, #T_55ac1_row3_col8, #T_55ac1_row4_col8, #T_55ac1_row5_col8, #T_55ac1_row6_col8, #T_55ac1_row7_col8, #T_55ac1_row8_col8, #T_55ac1_row9_col8, #T_55ac1_row10_col8, #T_55ac1_row11_col8, #T_55ac1_row12_col8, #T_55ac1_row13_col8 {\n",
              "  text-align: left;\n",
              "  background-color: lightgrey;\n",
              "}\n",
              "#T_55ac1_row14_col8 {\n",
              "  text-align: left;\n",
              "  background-color: yellow;\n",
              "  background-color: lightgrey;\n",
              "}\n",
              "</style>\n",
              "<table id=\"T_55ac1\" class=\"dataframe\">\n",
              "  <thead>\n",
              "    <tr>\n",
              "      <th class=\"blank level0\" >&nbsp;</th>\n",
              "      <th id=\"T_55ac1_level0_col0\" class=\"col_heading level0 col0\" >Model</th>\n",
              "      <th id=\"T_55ac1_level0_col1\" class=\"col_heading level0 col1\" >Accuracy</th>\n",
              "      <th id=\"T_55ac1_level0_col2\" class=\"col_heading level0 col2\" >AUC</th>\n",
              "      <th id=\"T_55ac1_level0_col3\" class=\"col_heading level0 col3\" >Recall</th>\n",
              "      <th id=\"T_55ac1_level0_col4\" class=\"col_heading level0 col4\" >Prec.</th>\n",
              "      <th id=\"T_55ac1_level0_col5\" class=\"col_heading level0 col5\" >F1</th>\n",
              "      <th id=\"T_55ac1_level0_col6\" class=\"col_heading level0 col6\" >Kappa</th>\n",
              "      <th id=\"T_55ac1_level0_col7\" class=\"col_heading level0 col7\" >MCC</th>\n",
              "      <th id=\"T_55ac1_level0_col8\" class=\"col_heading level0 col8\" >TT (Sec)</th>\n",
              "    </tr>\n",
              "  </thead>\n",
              "  <tbody>\n",
              "    <tr>\n",
              "      <th id=\"T_55ac1_level0_row0\" class=\"row_heading level0 row0\" >lr</th>\n",
              "      <td id=\"T_55ac1_row0_col0\" class=\"data row0 col0\" >Logistic Regression</td>\n",
              "      <td id=\"T_55ac1_row0_col1\" class=\"data row0 col1\" >0.8875</td>\n",
              "      <td id=\"T_55ac1_row0_col2\" class=\"data row0 col2\" >0.6119</td>\n",
              "      <td id=\"T_55ac1_row0_col3\" class=\"data row0 col3\" >0.1606</td>\n",
              "      <td id=\"T_55ac1_row0_col4\" class=\"data row0 col4\" >1.0000</td>\n",
              "      <td id=\"T_55ac1_row0_col5\" class=\"data row0 col5\" >0.2749</td>\n",
              "      <td id=\"T_55ac1_row0_col6\" class=\"data row0 col6\" >0.2476</td>\n",
              "      <td id=\"T_55ac1_row0_col7\" class=\"data row0 col7\" >0.3744</td>\n",
              "      <td id=\"T_55ac1_row0_col8\" class=\"data row0 col8\" >0.7390</td>\n",
              "    </tr>\n",
              "    <tr>\n",
              "      <th id=\"T_55ac1_level0_row1\" class=\"row_heading level0 row1\" >knn</th>\n",
              "      <td id=\"T_55ac1_row1_col0\" class=\"data row1 col0\" >K Neighbors Classifier</td>\n",
              "      <td id=\"T_55ac1_row1_col1\" class=\"data row1 col1\" >0.8875</td>\n",
              "      <td id=\"T_55ac1_row1_col2\" class=\"data row1 col2\" >0.5803</td>\n",
              "      <td id=\"T_55ac1_row1_col3\" class=\"data row1 col3\" >0.1606</td>\n",
              "      <td id=\"T_55ac1_row1_col4\" class=\"data row1 col4\" >1.0000</td>\n",
              "      <td id=\"T_55ac1_row1_col5\" class=\"data row1 col5\" >0.2749</td>\n",
              "      <td id=\"T_55ac1_row1_col6\" class=\"data row1 col6\" >0.2476</td>\n",
              "      <td id=\"T_55ac1_row1_col7\" class=\"data row1 col7\" >0.3744</td>\n",
              "      <td id=\"T_55ac1_row1_col8\" class=\"data row1 col8\" >0.0900</td>\n",
              "    </tr>\n",
              "    <tr>\n",
              "      <th id=\"T_55ac1_level0_row2\" class=\"row_heading level0 row2\" >nb</th>\n",
              "      <td id=\"T_55ac1_row2_col0\" class=\"data row2 col0\" >Naive Bayes</td>\n",
              "      <td id=\"T_55ac1_row2_col1\" class=\"data row2 col1\" >0.8875</td>\n",
              "      <td id=\"T_55ac1_row2_col2\" class=\"data row2 col2\" >0.6119</td>\n",
              "      <td id=\"T_55ac1_row2_col3\" class=\"data row2 col3\" >0.1606</td>\n",
              "      <td id=\"T_55ac1_row2_col4\" class=\"data row2 col4\" >1.0000</td>\n",
              "      <td id=\"T_55ac1_row2_col5\" class=\"data row2 col5\" >0.2749</td>\n",
              "      <td id=\"T_55ac1_row2_col6\" class=\"data row2 col6\" >0.2476</td>\n",
              "      <td id=\"T_55ac1_row2_col7\" class=\"data row2 col7\" >0.3744</td>\n",
              "      <td id=\"T_55ac1_row2_col8\" class=\"data row2 col8\" >0.0550</td>\n",
              "    </tr>\n",
              "    <tr>\n",
              "      <th id=\"T_55ac1_level0_row3\" class=\"row_heading level0 row3\" >dt</th>\n",
              "      <td id=\"T_55ac1_row3_col0\" class=\"data row3 col0\" >Decision Tree Classifier</td>\n",
              "      <td id=\"T_55ac1_row3_col1\" class=\"data row3 col1\" >0.8875</td>\n",
              "      <td id=\"T_55ac1_row3_col2\" class=\"data row3 col2\" >0.5803</td>\n",
              "      <td id=\"T_55ac1_row3_col3\" class=\"data row3 col3\" >0.1606</td>\n",
              "      <td id=\"T_55ac1_row3_col4\" class=\"data row3 col4\" >1.0000</td>\n",
              "      <td id=\"T_55ac1_row3_col5\" class=\"data row3 col5\" >0.2749</td>\n",
              "      <td id=\"T_55ac1_row3_col6\" class=\"data row3 col6\" >0.2476</td>\n",
              "      <td id=\"T_55ac1_row3_col7\" class=\"data row3 col7\" >0.3744</td>\n",
              "      <td id=\"T_55ac1_row3_col8\" class=\"data row3 col8\" >0.0560</td>\n",
              "    </tr>\n",
              "    <tr>\n",
              "      <th id=\"T_55ac1_level0_row4\" class=\"row_heading level0 row4\" >svm</th>\n",
              "      <td id=\"T_55ac1_row4_col0\" class=\"data row4 col0\" >SVM - Linear Kernel</td>\n",
              "      <td id=\"T_55ac1_row4_col1\" class=\"data row4 col1\" >0.8875</td>\n",
              "      <td id=\"T_55ac1_row4_col2\" class=\"data row4 col2\" >0.0000</td>\n",
              "      <td id=\"T_55ac1_row4_col3\" class=\"data row4 col3\" >0.1606</td>\n",
              "      <td id=\"T_55ac1_row4_col4\" class=\"data row4 col4\" >1.0000</td>\n",
              "      <td id=\"T_55ac1_row4_col5\" class=\"data row4 col5\" >0.2749</td>\n",
              "      <td id=\"T_55ac1_row4_col6\" class=\"data row4 col6\" >0.2476</td>\n",
              "      <td id=\"T_55ac1_row4_col7\" class=\"data row4 col7\" >0.3744</td>\n",
              "      <td id=\"T_55ac1_row4_col8\" class=\"data row4 col8\" >0.0540</td>\n",
              "    </tr>\n",
              "    <tr>\n",
              "      <th id=\"T_55ac1_level0_row5\" class=\"row_heading level0 row5\" >ridge</th>\n",
              "      <td id=\"T_55ac1_row5_col0\" class=\"data row5 col0\" >Ridge Classifier</td>\n",
              "      <td id=\"T_55ac1_row5_col1\" class=\"data row5 col1\" >0.8875</td>\n",
              "      <td id=\"T_55ac1_row5_col2\" class=\"data row5 col2\" >0.0000</td>\n",
              "      <td id=\"T_55ac1_row5_col3\" class=\"data row5 col3\" >0.1606</td>\n",
              "      <td id=\"T_55ac1_row5_col4\" class=\"data row5 col4\" >1.0000</td>\n",
              "      <td id=\"T_55ac1_row5_col5\" class=\"data row5 col5\" >0.2749</td>\n",
              "      <td id=\"T_55ac1_row5_col6\" class=\"data row5 col6\" >0.2476</td>\n",
              "      <td id=\"T_55ac1_row5_col7\" class=\"data row5 col7\" >0.3744</td>\n",
              "      <td id=\"T_55ac1_row5_col8\" class=\"data row5 col8\" >0.0530</td>\n",
              "    </tr>\n",
              "    <tr>\n",
              "      <th id=\"T_55ac1_level0_row6\" class=\"row_heading level0 row6\" >rf</th>\n",
              "      <td id=\"T_55ac1_row6_col0\" class=\"data row6 col0\" >Random Forest Classifier</td>\n",
              "      <td id=\"T_55ac1_row6_col1\" class=\"data row6 col1\" >0.8875</td>\n",
              "      <td id=\"T_55ac1_row6_col2\" class=\"data row6 col2\" >0.5803</td>\n",
              "      <td id=\"T_55ac1_row6_col3\" class=\"data row6 col3\" >0.1606</td>\n",
              "      <td id=\"T_55ac1_row6_col4\" class=\"data row6 col4\" >1.0000</td>\n",
              "      <td id=\"T_55ac1_row6_col5\" class=\"data row6 col5\" >0.2749</td>\n",
              "      <td id=\"T_55ac1_row6_col6\" class=\"data row6 col6\" >0.2476</td>\n",
              "      <td id=\"T_55ac1_row6_col7\" class=\"data row6 col7\" >0.3744</td>\n",
              "      <td id=\"T_55ac1_row6_col8\" class=\"data row6 col8\" >0.2590</td>\n",
              "    </tr>\n",
              "    <tr>\n",
              "      <th id=\"T_55ac1_level0_row7\" class=\"row_heading level0 row7\" >qda</th>\n",
              "      <td id=\"T_55ac1_row7_col0\" class=\"data row7 col0\" >Quadratic Discriminant Analysis</td>\n",
              "      <td id=\"T_55ac1_row7_col1\" class=\"data row7 col1\" >0.8875</td>\n",
              "      <td id=\"T_55ac1_row7_col2\" class=\"data row7 col2\" >0.6119</td>\n",
              "      <td id=\"T_55ac1_row7_col3\" class=\"data row7 col3\" >0.1606</td>\n",
              "      <td id=\"T_55ac1_row7_col4\" class=\"data row7 col4\" >1.0000</td>\n",
              "      <td id=\"T_55ac1_row7_col5\" class=\"data row7 col5\" >0.2749</td>\n",
              "      <td id=\"T_55ac1_row7_col6\" class=\"data row7 col6\" >0.2476</td>\n",
              "      <td id=\"T_55ac1_row7_col7\" class=\"data row7 col7\" >0.3744</td>\n",
              "      <td id=\"T_55ac1_row7_col8\" class=\"data row7 col8\" >0.0530</td>\n",
              "    </tr>\n",
              "    <tr>\n",
              "      <th id=\"T_55ac1_level0_row8\" class=\"row_heading level0 row8\" >ada</th>\n",
              "      <td id=\"T_55ac1_row8_col0\" class=\"data row8 col0\" >Ada Boost Classifier</td>\n",
              "      <td id=\"T_55ac1_row8_col1\" class=\"data row8 col1\" >0.8875</td>\n",
              "      <td id=\"T_55ac1_row8_col2\" class=\"data row8 col2\" >0.5803</td>\n",
              "      <td id=\"T_55ac1_row8_col3\" class=\"data row8 col3\" >0.1606</td>\n",
              "      <td id=\"T_55ac1_row8_col4\" class=\"data row8 col4\" >1.0000</td>\n",
              "      <td id=\"T_55ac1_row8_col5\" class=\"data row8 col5\" >0.2749</td>\n",
              "      <td id=\"T_55ac1_row8_col6\" class=\"data row8 col6\" >0.2476</td>\n",
              "      <td id=\"T_55ac1_row8_col7\" class=\"data row8 col7\" >0.3744</td>\n",
              "      <td id=\"T_55ac1_row8_col8\" class=\"data row8 col8\" >0.0610</td>\n",
              "    </tr>\n",
              "    <tr>\n",
              "      <th id=\"T_55ac1_level0_row9\" class=\"row_heading level0 row9\" >gbc</th>\n",
              "      <td id=\"T_55ac1_row9_col0\" class=\"data row9 col0\" >Gradient Boosting Classifier</td>\n",
              "      <td id=\"T_55ac1_row9_col1\" class=\"data row9 col1\" >0.8875</td>\n",
              "      <td id=\"T_55ac1_row9_col2\" class=\"data row9 col2\" >0.5803</td>\n",
              "      <td id=\"T_55ac1_row9_col3\" class=\"data row9 col3\" >0.1606</td>\n",
              "      <td id=\"T_55ac1_row9_col4\" class=\"data row9 col4\" >1.0000</td>\n",
              "      <td id=\"T_55ac1_row9_col5\" class=\"data row9 col5\" >0.2749</td>\n",
              "      <td id=\"T_55ac1_row9_col6\" class=\"data row9 col6\" >0.2476</td>\n",
              "      <td id=\"T_55ac1_row9_col7\" class=\"data row9 col7\" >0.3744</td>\n",
              "      <td id=\"T_55ac1_row9_col8\" class=\"data row9 col8\" >0.2300</td>\n",
              "    </tr>\n",
              "    <tr>\n",
              "      <th id=\"T_55ac1_level0_row10\" class=\"row_heading level0 row10\" >lda</th>\n",
              "      <td id=\"T_55ac1_row10_col0\" class=\"data row10 col0\" >Linear Discriminant Analysis</td>\n",
              "      <td id=\"T_55ac1_row10_col1\" class=\"data row10 col1\" >0.8875</td>\n",
              "      <td id=\"T_55ac1_row10_col2\" class=\"data row10 col2\" >0.6119</td>\n",
              "      <td id=\"T_55ac1_row10_col3\" class=\"data row10 col3\" >0.1606</td>\n",
              "      <td id=\"T_55ac1_row10_col4\" class=\"data row10 col4\" >1.0000</td>\n",
              "      <td id=\"T_55ac1_row10_col5\" class=\"data row10 col5\" >0.2749</td>\n",
              "      <td id=\"T_55ac1_row10_col6\" class=\"data row10 col6\" >0.2476</td>\n",
              "      <td id=\"T_55ac1_row10_col7\" class=\"data row10 col7\" >0.3744</td>\n",
              "      <td id=\"T_55ac1_row10_col8\" class=\"data row10 col8\" >0.0530</td>\n",
              "    </tr>\n",
              "    <tr>\n",
              "      <th id=\"T_55ac1_level0_row11\" class=\"row_heading level0 row11\" >et</th>\n",
              "      <td id=\"T_55ac1_row11_col0\" class=\"data row11 col0\" >Extra Trees Classifier</td>\n",
              "      <td id=\"T_55ac1_row11_col1\" class=\"data row11 col1\" >0.8875</td>\n",
              "      <td id=\"T_55ac1_row11_col2\" class=\"data row11 col2\" >0.6119</td>\n",
              "      <td id=\"T_55ac1_row11_col3\" class=\"data row11 col3\" >0.1606</td>\n",
              "      <td id=\"T_55ac1_row11_col4\" class=\"data row11 col4\" >1.0000</td>\n",
              "      <td id=\"T_55ac1_row11_col5\" class=\"data row11 col5\" >0.2749</td>\n",
              "      <td id=\"T_55ac1_row11_col6\" class=\"data row11 col6\" >0.2476</td>\n",
              "      <td id=\"T_55ac1_row11_col7\" class=\"data row11 col7\" >0.3744</td>\n",
              "      <td id=\"T_55ac1_row11_col8\" class=\"data row11 col8\" >0.2170</td>\n",
              "    </tr>\n",
              "    <tr>\n",
              "      <th id=\"T_55ac1_level0_row12\" class=\"row_heading level0 row12\" >xgboost</th>\n",
              "      <td id=\"T_55ac1_row12_col0\" class=\"data row12 col0\" >Extreme Gradient Boosting</td>\n",
              "      <td id=\"T_55ac1_row12_col1\" class=\"data row12 col1\" >0.8875</td>\n",
              "      <td id=\"T_55ac1_row12_col2\" class=\"data row12 col2\" >0.5803</td>\n",
              "      <td id=\"T_55ac1_row12_col3\" class=\"data row12 col3\" >0.1606</td>\n",
              "      <td id=\"T_55ac1_row12_col4\" class=\"data row12 col4\" >1.0000</td>\n",
              "      <td id=\"T_55ac1_row12_col5\" class=\"data row12 col5\" >0.2749</td>\n",
              "      <td id=\"T_55ac1_row12_col6\" class=\"data row12 col6\" >0.2476</td>\n",
              "      <td id=\"T_55ac1_row12_col7\" class=\"data row12 col7\" >0.3744</td>\n",
              "      <td id=\"T_55ac1_row12_col8\" class=\"data row12 col8\" >0.0800</td>\n",
              "    </tr>\n",
              "    <tr>\n",
              "      <th id=\"T_55ac1_level0_row13\" class=\"row_heading level0 row13\" >lightgbm</th>\n",
              "      <td id=\"T_55ac1_row13_col0\" class=\"data row13 col0\" >Light Gradient Boosting Machine</td>\n",
              "      <td id=\"T_55ac1_row13_col1\" class=\"data row13 col1\" >0.8875</td>\n",
              "      <td id=\"T_55ac1_row13_col2\" class=\"data row13 col2\" >0.5691</td>\n",
              "      <td id=\"T_55ac1_row13_col3\" class=\"data row13 col3\" >0.1606</td>\n",
              "      <td id=\"T_55ac1_row13_col4\" class=\"data row13 col4\" >1.0000</td>\n",
              "      <td id=\"T_55ac1_row13_col5\" class=\"data row13 col5\" >0.2749</td>\n",
              "      <td id=\"T_55ac1_row13_col6\" class=\"data row13 col6\" >0.2476</td>\n",
              "      <td id=\"T_55ac1_row13_col7\" class=\"data row13 col7\" >0.3744</td>\n",
              "      <td id=\"T_55ac1_row13_col8\" class=\"data row13 col8\" >0.3030</td>\n",
              "    </tr>\n",
              "    <tr>\n",
              "      <th id=\"T_55ac1_level0_row14\" class=\"row_heading level0 row14\" >dummy</th>\n",
              "      <td id=\"T_55ac1_row14_col0\" class=\"data row14 col0\" >Dummy Classifier</td>\n",
              "      <td id=\"T_55ac1_row14_col1\" class=\"data row14 col1\" >0.8659</td>\n",
              "      <td id=\"T_55ac1_row14_col2\" class=\"data row14 col2\" >0.5000</td>\n",
              "      <td id=\"T_55ac1_row14_col3\" class=\"data row14 col3\" >0.0000</td>\n",
              "      <td id=\"T_55ac1_row14_col4\" class=\"data row14 col4\" >0.0000</td>\n",
              "      <td id=\"T_55ac1_row14_col5\" class=\"data row14 col5\" >0.0000</td>\n",
              "      <td id=\"T_55ac1_row14_col6\" class=\"data row14 col6\" >0.0000</td>\n",
              "      <td id=\"T_55ac1_row14_col7\" class=\"data row14 col7\" >0.0000</td>\n",
              "      <td id=\"T_55ac1_row14_col8\" class=\"data row14 col8\" >0.0500</td>\n",
              "    </tr>\n",
              "  </tbody>\n",
              "</table>\n"
            ]
          },
          "metadata": {}
        },
        {
          "output_type": "display_data",
          "data": {
            "text/plain": [
              "Processing:   0%|          | 0/65 [00:00<?, ?it/s]"
            ],
            "application/vnd.jupyter.widget-view+json": {
              "version_major": 2,
              "version_minor": 0,
              "model_id": "be1248aee64d40a98c5789d1a2503a65"
            }
          },
          "metadata": {
            "application/vnd.jupyter.widget-view+json": {
              "colab": {
                "custom_widget_manager": {
                  "url": "https://ssl.gstatic.com/colaboratory-static/widgets/colab-cdn-widget-manager/2b70e893a8ba7c0f/manager.min.js"
                }
              }
            }
          }
        },
        {
          "output_type": "display_data",
          "data": {
            "text/plain": [
              "<IPython.core.display.HTML object>"
            ],
            "text/html": []
          },
          "metadata": {}
        },
        {
          "output_type": "stream",
          "name": "stdout",
          "text": [
            "CPU times: user 7.24 s, sys: 128 ms, total: 7.37 s\n",
            "Wall time: 29.6 s\n"
          ]
        },
        {
          "output_type": "execute_result",
          "data": {
            "text/plain": [
              "LogisticRegression(C=1.0, class_weight=None, dual=False, fit_intercept=True,\n",
              "                   intercept_scaling=1, l1_ratio=None, max_iter=1000,\n",
              "                   multi_class='auto', n_jobs=None, penalty='l2',\n",
              "                   random_state=21, solver='lbfgs', tol=0.0001, verbose=0,\n",
              "                   warm_start=False)"
            ],
            "text/html": [
              "<style>#sk-container-id-1 {color: black;background-color: white;}#sk-container-id-1 pre{padding: 0;}#sk-container-id-1 div.sk-toggleable {background-color: white;}#sk-container-id-1 label.sk-toggleable__label {cursor: pointer;display: block;width: 100%;margin-bottom: 0;padding: 0.3em;box-sizing: border-box;text-align: center;}#sk-container-id-1 label.sk-toggleable__label-arrow:before {content: \"▸\";float: left;margin-right: 0.25em;color: #696969;}#sk-container-id-1 label.sk-toggleable__label-arrow:hover:before {color: black;}#sk-container-id-1 div.sk-estimator:hover label.sk-toggleable__label-arrow:before {color: black;}#sk-container-id-1 div.sk-toggleable__content {max-height: 0;max-width: 0;overflow: hidden;text-align: left;background-color: #f0f8ff;}#sk-container-id-1 div.sk-toggleable__content pre {margin: 0.2em;color: black;border-radius: 0.25em;background-color: #f0f8ff;}#sk-container-id-1 input.sk-toggleable__control:checked~div.sk-toggleable__content {max-height: 200px;max-width: 100%;overflow: auto;}#sk-container-id-1 input.sk-toggleable__control:checked~label.sk-toggleable__label-arrow:before {content: \"▾\";}#sk-container-id-1 div.sk-estimator input.sk-toggleable__control:checked~label.sk-toggleable__label {background-color: #d4ebff;}#sk-container-id-1 div.sk-label input.sk-toggleable__control:checked~label.sk-toggleable__label {background-color: #d4ebff;}#sk-container-id-1 input.sk-hidden--visually {border: 0;clip: rect(1px 1px 1px 1px);clip: rect(1px, 1px, 1px, 1px);height: 1px;margin: -1px;overflow: hidden;padding: 0;position: absolute;width: 1px;}#sk-container-id-1 div.sk-estimator {font-family: monospace;background-color: #f0f8ff;border: 1px dotted black;border-radius: 0.25em;box-sizing: border-box;margin-bottom: 0.5em;}#sk-container-id-1 div.sk-estimator:hover {background-color: #d4ebff;}#sk-container-id-1 div.sk-parallel-item::after {content: \"\";width: 100%;border-bottom: 1px solid gray;flex-grow: 1;}#sk-container-id-1 div.sk-label:hover label.sk-toggleable__label {background-color: #d4ebff;}#sk-container-id-1 div.sk-serial::before {content: \"\";position: absolute;border-left: 1px solid gray;box-sizing: border-box;top: 0;bottom: 0;left: 50%;z-index: 0;}#sk-container-id-1 div.sk-serial {display: flex;flex-direction: column;align-items: center;background-color: white;padding-right: 0.2em;padding-left: 0.2em;position: relative;}#sk-container-id-1 div.sk-item {position: relative;z-index: 1;}#sk-container-id-1 div.sk-parallel {display: flex;align-items: stretch;justify-content: center;background-color: white;position: relative;}#sk-container-id-1 div.sk-item::before, #sk-container-id-1 div.sk-parallel-item::before {content: \"\";position: absolute;border-left: 1px solid gray;box-sizing: border-box;top: 0;bottom: 0;left: 50%;z-index: -1;}#sk-container-id-1 div.sk-parallel-item {display: flex;flex-direction: column;z-index: 1;position: relative;background-color: white;}#sk-container-id-1 div.sk-parallel-item:first-child::after {align-self: flex-end;width: 50%;}#sk-container-id-1 div.sk-parallel-item:last-child::after {align-self: flex-start;width: 50%;}#sk-container-id-1 div.sk-parallel-item:only-child::after {width: 0;}#sk-container-id-1 div.sk-dashed-wrapped {border: 1px dashed gray;margin: 0 0.4em 0.5em 0.4em;box-sizing: border-box;padding-bottom: 0.4em;background-color: white;}#sk-container-id-1 div.sk-label label {font-family: monospace;font-weight: bold;display: inline-block;line-height: 1.2em;}#sk-container-id-1 div.sk-label-container {text-align: center;}#sk-container-id-1 div.sk-container {/* jupyter's `normalize.less` sets `[hidden] { display: none; }` but bootstrap.min.css set `[hidden] { display: none !important; }` so we also need the `!important` here to be able to override the default hidden behavior on the sphinx rendered scikit-learn.org. See: https://github.com/scikit-learn/scikit-learn/issues/21755 */display: inline-block !important;position: relative;}#sk-container-id-1 div.sk-text-repr-fallback {display: none;}</style><div id=\"sk-container-id-1\" class=\"sk-top-container\"><div class=\"sk-text-repr-fallback\"><pre>LogisticRegression(C=1.0, class_weight=None, dual=False, fit_intercept=True,\n",
              "                   intercept_scaling=1, l1_ratio=None, max_iter=1000,\n",
              "                   multi_class=&#x27;auto&#x27;, n_jobs=None, penalty=&#x27;l2&#x27;,\n",
              "                   random_state=21, solver=&#x27;lbfgs&#x27;, tol=0.0001, verbose=0,\n",
              "                   warm_start=False)</pre><b>In a Jupyter environment, please rerun this cell to show the HTML representation or trust the notebook. <br />On GitHub, the HTML representation is unable to render, please try loading this page with nbviewer.org.</b></div><div class=\"sk-container\" hidden><div class=\"sk-item\"><div class=\"sk-estimator sk-toggleable\"><input class=\"sk-toggleable__control sk-hidden--visually\" id=\"sk-estimator-id-1\" type=\"checkbox\" checked><label for=\"sk-estimator-id-1\" class=\"sk-toggleable__label sk-toggleable__label-arrow\">LogisticRegression</label><div class=\"sk-toggleable__content\"><pre>LogisticRegression(C=1.0, class_weight=None, dual=False, fit_intercept=True,\n",
              "                   intercept_scaling=1, l1_ratio=None, max_iter=1000,\n",
              "                   multi_class=&#x27;auto&#x27;, n_jobs=None, penalty=&#x27;l2&#x27;,\n",
              "                   random_state=21, solver=&#x27;lbfgs&#x27;, tol=0.0001, verbose=0,\n",
              "                   warm_start=False)</pre></div></div></div></div></div>"
            ]
          },
          "metadata": {},
          "execution_count": 68
        }
      ]
    }
  ]
}